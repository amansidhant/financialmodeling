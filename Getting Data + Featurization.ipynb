{
 "cells": [
  {
   "cell_type": "markdown",
   "metadata": {},
   "source": [
    "# Outline"
   ]
  },
  {
   "cell_type": "markdown",
   "metadata": {},
   "source": [
    "1. Getting data\n",
    "2. Data cleaning & featurizing\n",
    "3. Data Export"
   ]
  },
  {
   "cell_type": "code",
   "execution_count": 1,
   "metadata": {
    "scrolled": true
   },
   "outputs": [
    {
     "name": "stderr",
     "output_type": "stream",
     "text": [
      "/Library/Python/2.7/site-packages/sklearn/cross_validation.py:41: DeprecationWarning: This module was deprecated in version 0.18 in favor of the model_selection module into which all the refactored classes and functions are moved. Also note that the interface of the new CV iterators are different from that of this module. This module will be removed in 0.20.\n",
      "  \"This module will be removed in 0.20.\", DeprecationWarning)\n"
     ]
    }
   ],
   "source": [
    "%matplotlib inline\n",
    "\n",
    "import quandl as Quandl\n",
    "Quandl.ApiConfig.api_key = \"EGdC1RASF31yDGeBDRt7\"\n",
    "import numpy as np\n",
    "import pandas as pd\n",
    "import math\n",
    "from sklearn import preprocessing, cross_validation, svm\n",
    "from sklearn.linear_model import LinearRegression\n",
    "import matplotlib.pyplot as plt\n",
    "from matplotlib import style\n",
    "import datetime\n",
    "import pickle as pkl\n",
    "style.use('ggplot')\n",
    "\n",
    "import util as u"
   ]
  },
  {
   "cell_type": "markdown",
   "metadata": {},
   "source": [
    "## <font color = blue> Getting Data</font>"
   ]
  },
  {
   "cell_type": "markdown",
   "metadata": {},
   "source": [
    "* Individual Stocks\n",
    "* Market & Industry Indicators"
   ]
  },
  {
   "cell_type": "markdown",
   "metadata": {},
   "source": [
    "### Individual Stocks"
   ]
  },
  {
   "cell_type": "markdown",
   "metadata": {},
   "source": [
    "Scraping the top 200 tech companies from NASDAQ (https://www.nasdaq.com/screening/companies-by-industry.aspx?industry=Technology."
   ]
  },
  {
   "cell_type": "code",
   "execution_count": 2,
   "metadata": {},
   "outputs": [],
   "source": [
    "tech_tickers = np.array([a.strip().upper() for a in pd.read_csv('companylist.csv')['Symbol']])\n",
    "quandl_codes_tech_tickers = [\"WIKI/\"+ticker for ticker in tech_tickers]"
   ]
  },
  {
   "cell_type": "markdown",
   "metadata": {},
   "source": [
    "Get the ticker data!"
   ]
  },
  {
   "cell_type": "code",
   "execution_count": 3,
   "metadata": {},
   "outputs": [
    {
     "name": "stdout",
     "output_type": "stream",
     "text": [
      "WIKI/VNET does not exist on Quandl's side.\n",
      "WIKI/JOBS does not exist on Quandl's side.\n",
      "WIKI/WUBA does not exist on Quandl's side.\n",
      "WIKI/ACIA does not exist on Quandl's side.\n",
      "WIKI/ACMR does not exist on Quandl's side.\n",
      "WIKI/IOTS does not exist on Quandl's side.\n",
      "WIKI/AER does not exist on Quandl's side.\n",
      "WIKI/ACY does not exist on Quandl's side.\n",
      "WIKI/AGMH does not exist on Quandl's side.\n",
      "WIKI/AIRG does not exist on Quandl's side.\n",
      "WIKI/AMCN does not exist on Quandl's side.\n",
      "WIKI/ALRM does not exist on Quandl's side.\n",
      "WIKI/ALYA does not exist on Quandl's side.\n",
      "WIKI/ALLT does not exist on Quandl's side.\n",
      "WIKI/AABA does not exist on Quandl's side.\n",
      "WIKI/AYX does not exist on Quandl's side.\n",
      "WIKI/AMRH does not exist on Quandl's side.\n",
      "WIKI/AMRHW does not exist on Quandl's side.\n",
      "WIKI/AMN does not exist on Quandl's side.\n",
      "WIKI/ASYS does not exist on Quandl's side.\n",
      "WIKI/PLAN does not exist on Quandl's side.\n",
      "WIKI/APY does not exist on Quandl's side.\n",
      "WIKI/APPF does not exist on Quandl's side.\n",
      "WIKI/APPN does not exist on Quandl's side.\n",
      "WIKI/APTI does not exist on Quandl's side.\n",
      "WIKI/AQ does not exist on Quandl's side.\n",
      "WIKI/ANET does not exist on Quandl's side.\n",
      "WIKI/ASX does not exist on Quandl's side.\n",
      "WIKI/ASML does not exist on Quandl's side.\n",
      "WIKI/ALOT does not exist on Quandl's side.\n",
      "WIKI/ASUR does not exist on Quandl's side.\n",
      "WIKI/TEAM does not exist on Quandl's side.\n",
      "WIKI/ATOM does not exist on Quandl's side.\n",
      "WIKI/ATTU does not exist on Quandl's side.\n",
      "WIKI/AUO does not exist on Quandl's side.\n",
      "WIKI/AEYE does not exist on Quandl's side.\n",
      "WIKI/JG does not exist on Quandl's side.\n",
      "WIKI/ATHM does not exist on Quandl's side.\n",
      "WIKI/AUTO does not exist on Quandl's side.\n",
      "WIKI/AVLR does not exist on Quandl's side.\n",
      "WIKI/AWRE does not exist on Quandl's side.\n",
      "WIKI/AXTI does not exist on Quandl's side.\n",
      "WIKI/BOSC does not exist on Quandl's side.\n",
      "WIKI/BAND does not exist on Quandl's side.\n",
      "WIKI/BGSF does not exist on Quandl's side.\n",
      "WIKI/BILI does not exist on Quandl's side.\n",
      "WIKI/BKYI does not exist on Quandl's side.\n",
      "WIKI/BITA does not exist on Quandl's side.\n",
      "WIKI/BKTI does not exist on Quandl's side.\n",
      "WIKI/BKI does not exist on Quandl's side.\n",
      "WIKI/BB does not exist on Quandl's side.\n",
      "WIKI/BL does not exist on Quandl's side.\n",
      "WIKI/BDR does not exist on Quandl's side.\n",
      "WIKI/BRQS does not exist on Quandl's side.\n",
      "WIKI/BOX does not exist on Quandl's side.\n",
      "WIKI/BLIN does not exist on Quandl's side.\n",
      "WIKI/BVSN does not exist on Quandl's side.\n",
      "WIKI/CAI does not exist on Quandl's side.\n",
      "WIKI/CSIQ does not exist on Quandl's side.\n",
      "WIKI/CBLK does not exist on Quandl's side.\n",
      "WIKI/CDLX does not exist on Quandl's side.\n",
      "WIKI/CARG does not exist on Quandl's side.\n",
      "WIKI/CARS does not exist on Quandl's side.\n",
      "WIKI/CASA does not exist on Quandl's side.\n",
      "WIKI/CLS does not exist on Quandl's side.\n",
      "WIKI/CRNT does not exist on Quandl's side.\n",
      "WIKI/CDAY does not exist on Quandl's side.\n",
      "WIKI/CYOU does not exist on Quandl's side.\n",
      "WIKI/CMCM does not exist on Quandl's side.\n",
      "WIKI/CVR does not exist on Quandl's side.\n",
      "WIKI/CCIH does not exist on Quandl's side.\n",
      "WIKI/CNET does not exist on Quandl's side.\n",
      "WIKI/IMOS does not exist on Quandl's side.\n",
      "WIKI/CISN does not exist on Quandl's side.\n",
      "WIKI/CLDR does not exist on Quandl's side.\n",
      "WIKI/CLPS does not exist on Quandl's side.\n",
      "WIKI/CCNI does not exist on Quandl's side.\n",
      "WIKI/COMM does not exist on Quandl's side.\n",
      "WIKI/CVON does not exist on Quandl's side.\n",
      "WIKI/CTK does not exist on Quandl's side.\n",
      "WIKI/CPAH does not exist on Quandl's side.\n",
      "WIKI/CRTO does not exist on Quandl's side.\n",
      "WIKI/CSPI does not exist on Quandl's side.\n",
      "WIKI/CVV does not exist on Quandl's side.\n",
      "WIKI/CYBR does not exist on Quandl's side.\n",
      "WIKI/CYRN does not exist on Quandl's side.\n",
      "WIKI/DQ does not exist on Quandl's side.\n",
      "WIKI/DWCH does not exist on Quandl's side.\n",
      "WIKI/DVMT does not exist on Quandl's side.\n",
      "WIKI/DTRM does not exist on Quandl's side.\n",
      "WIKI/DGLY does not exist on Quandl's side.\n",
      "WIKI/DLHC does not exist on Quandl's side.\n",
      "WIKI/DOCU does not exist on Quandl's side.\n",
      "WIKI/DOMO does not exist on Quandl's side.\n",
      "WIKI/DBX does not exist on Quandl's side.\n",
      "WIKI/ESTC does not exist on Quandl's side.\n",
      "WIKI/ELTK does not exist on Quandl's side.\n",
      "WIKI/EMAN does not exist on Quandl's side.\n",
      "WIKI/EMKR does not exist on Quandl's side.\n",
      "WIKI/DAVA does not exist on Quandl's side.\n",
      "WIKI/WATT does not exist on Quandl's side.\n",
      "WIKI/ERIC does not exist on Quandl's side.\n",
      "WIKI/EB does not exist on Quandl's side.\n",
      "WIKI/EVBG does not exist on Quandl's side.\n",
      "WIKI/MRAM does not exist on Quandl's side.\n"
     ]
    }
   ],
   "source": [
    "tech_data = u.fetch_prices(quandl_codes_tech_tickers, limit=200)"
   ]
  },
  {
   "cell_type": "markdown",
   "metadata": {},
   "source": [
    "## <font color = blue>Data Cleaning & Featurizing </font>"
   ]
  },
  {
   "cell_type": "markdown",
   "metadata": {},
   "source": [
    "* Featurizing\n",
    "* Cleaning"
   ]
  },
  {
   "cell_type": "markdown",
   "metadata": {},
   "source": [
    "#### Featurizing"
   ]
  },
  {
   "cell_type": "code",
   "execution_count": 4,
   "metadata": {},
   "outputs": [
    {
     "name": "stderr",
     "output_type": "stream",
     "text": [
      "/Library/Python/2.7/site-packages/ta/trend.py:170: RuntimeWarning: invalid value encountered in double_scalars\n",
      "  dip[i] = 100 * (dip_mio[i]/trs[i])\n",
      "/Library/Python/2.7/site-packages/ta/trend.py:174: RuntimeWarning: invalid value encountered in double_scalars\n",
      "  din[i] = 100 * (din_mio[i]/trs[i])\n"
     ]
    }
   ],
   "source": [
    "tech_data = u.apply_to_all_stocks(u.select_relevant_raw_features, tech_data)\n",
    "tech_data = u.apply_to_all_stocks(u.add_ft_PCT_change, tech_data)\n",
    "tech_data = u.apply_to_all_stocks(u.select_indicators, tech_data)\n",
    "\n"
   ]
  },
  {
   "cell_type": "markdown",
   "metadata": {},
   "source": [
    "# Indices & Market-Level Data"
   ]
  },
  {
   "cell_type": "code",
   "execution_count": 5,
   "metadata": {},
   "outputs": [],
   "source": [
    "%matplotlib inline\n",
    "\n",
    "import quandl as Quandl\n",
    "Quandl.ApiConfig.api_key = \"EGdC1RASF31yDGeBDRt7\"\n",
    "import numpy as np\n",
    "import pandas as pd\n",
    "import math\n",
    "from sklearn import preprocessing, cross_validation, svm\n",
    "from sklearn.linear_model import LinearRegression\n",
    "import matplotlib.pyplot as plt\n",
    "from matplotlib import style\n",
    "import datetime\n",
    "import pickle as pkl\n",
    "style.use('ggplot')\n",
    "\n",
    "import util as u"
   ]
  },
  {
   "cell_type": "markdown",
   "metadata": {},
   "source": [
    "Indices from NASDAQOMX (https://www.quandl.com/data/NASDAQOMX-NASDAQ-OMX-Global-Index-Data?keyword=technology):\n",
    "    \n",
    "    --------- SECTOR INDICATORS ----------\n",
    "    \n",
    "    NASDAQ-100 Ex-Tech Sector (NDXX)\n",
    "    NASDAQ-100 Technology Sector (NDXT) \n",
    "    NASDAQ-100 Target 25 Index(NDXT25) //Note: dropped due to little data\n",
    "    NASDAQ-100 Technology Sector Total Return (NTTR)\n",
    "    \n",
    "    --------- MARKET INDICATORS -----------\n",
    "    \n",
    "    NASDAQ N America Index (NQNA)\n",
    "    NASDAQ US All Market Index (NQUSA)\n",
    "\n",
    "    NASDAQ US 1500 Index (NQUSS1500)\n",
    "    NASDAQ US 450 Index (NQUSM450)\n",
    "    NASDAQ US 300 Index (NQUSL300)\n",
    "\n",
    "    NASDAQ US Small Cap Index (NQUSS)\n",
    "    NASDAQ US Large Cap Index (NQUSL)\n",
    "    NASDAQ US Mid Cap Index (NQUSM)\n",
    "    \n",
    "    Nasdaq US Sustainable Momentum Index (NQSUMO) //Note: dropped due to little data\n",
    "    \n",
    "    \n",
    "    \n",
    "Indices from URC (https://www.quandl.com/data/URC-Unicorn-Research-Corporation?page=3):\n",
    "\n",
    "    --------- MARKET INDICATORS -----------\n",
    "\n",
    "    All of them on the NASDAQ\n",
    "    \n",
    "    "
   ]
  },
  {
   "cell_type": "code",
   "execution_count": 6,
   "metadata": {},
   "outputs": [],
   "source": [
    "sector_idcs = ['NDXX','NDXT','NTTR']\n",
    "market_idcs = ['NQNA', 'NQUSA', 'NQUSS1500', 'NQUSM450', 'NQUSL300', 'NQUSS', 'NQUSL', 'NQUSM']\n",
    "sector_idcs, market_idcs = [\"NASDAQOMX/\"+t for t in sector_idcs], [\"NASDAQOMX/\"+t for t in market_idcs]"
   ]
  },
  {
   "cell_type": "code",
   "execution_count": 7,
   "metadata": {},
   "outputs": [],
   "source": [
    "market_urc_idcs = [\"URC/\"+name for name in [\"NASDAQ_ADV\", \"NASDAQ_UNCH\", \"NASDAQ_52W_LO\", \"NASDAQ_52W_HI\", \"NASDAQ_UNCH_VOL\", \"NASDAQ_DEC_VOL\", \"NASDAQ_ADV_VOL\", \"NASDAQ_UNC\", \"NASDAQ_DEC\"]]\n"
   ]
  },
  {
   "cell_type": "code",
   "execution_count": 8,
   "metadata": {},
   "outputs": [],
   "source": [
    "sector_data, market_data = u.fetch_prices(sector_idcs), u.fetch_prices(market_idcs)\n",
    "market_urc_data = u.fetch_prices(market_urc_idcs)\n"
   ]
  },
  {
   "cell_type": "code",
   "execution_count": 9,
   "metadata": {},
   "outputs": [],
   "source": [
    "#drop some columns we don't want\n",
    "_ = [u.drop_col(df, 'Dividend Market Value') for df in sector_data.values()] #drop div values from all sector data\n",
    "_ = [u.drop_col(df, 'Dividend Market Value') for df in market_data.values()] #drop div values from all sector data\n"
   ]
  },
  {
   "cell_type": "code",
   "execution_count": 10,
   "metadata": {},
   "outputs": [],
   "source": [
    "#featurize\n",
    "sector_data = u.apply_to_all_stocks(u.add_industry_level_fts, sector_data)\n",
    "market_data = u.apply_to_all_stocks(u.add_market_level_fts, market_data)\n",
    "market_data_urc = u.apply_to_all_stocks(u.add_market_urc_level_fts, market_urc_data)\n"
   ]
  },
  {
   "cell_type": "markdown",
   "metadata": {},
   "source": [
    "Since we don't have dates that align, what we can do is join everything on dates, and see which stocks have full data. We will then experiment only with those!"
   ]
  },
  {
   "cell_type": "code",
   "execution_count": 11,
   "metadata": {},
   "outputs": [
    {
     "name": "stdout",
     "output_type": "stream",
     "text": [
      "('Range of industry and market features is in: ', Timestamp('2015-08-31 00:00:00'), Timestamp('2011-05-16 00:00:00'))\n"
     ]
    }
   ],
   "source": [
    "dfs = []\n",
    "dfs += [df for df in sector_data.values()]\n",
    "dfs += [df for df in market_data.values()]\n",
    "dfs += [df for df in market_urc_data.values()]\n",
    "\n",
    "industry_mkt_fts = reduce(lambda left,right: pd.merge(left,right,how='inner',left_index=True, right_index=True), dfs)\n",
    "\n",
    "print(\"Range of industry and market features is in: \", max(industry_mkt_fts.index), min(industry_mkt_fts.index))\n"
   ]
  },
  {
   "cell_type": "markdown",
   "metadata": {},
   "source": [
    "## Clean & Save Individual Stock and Market & Industry Indicators"
   ]
  },
  {
   "cell_type": "markdown",
   "metadata": {},
   "source": [
    "We do this after the market & industry because we want to filter by date on individual stocks such that we get matching time frames for all featurizations"
   ]
  },
  {
   "cell_type": "markdown",
   "metadata": {},
   "source": [
    "#### Cleaning"
   ]
  },
  {
   "cell_type": "code",
   "execution_count": 12,
   "metadata": {},
   "outputs": [
    {
     "name": "stderr",
     "output_type": "stream",
     "text": [
      "/Library/Python/2.7/site-packages/sklearn/preprocessing/data.py:164: UserWarning: Numerical issues were encountered when centering the data and might not be solved. Dataset may contain too large values. You may need to prescale your features.\n",
      "  warnings.warn(\"Numerical issues were encountered \"\n"
     ]
    },
    {
     "name": "stdout",
     "output_type": "stream",
     "text": [
      "skipped one due to NaN/Inf bug!\n",
      "skipped one due to NaN/Inf bug!\n"
     ]
    }
   ],
   "source": [
    "cleaned_data = {}\n",
    "cleaned_data_aug = {}\n",
    "\n",
    "for stock_data,stock_ticker in zip(tech_data.values(), tech_data.keys()):\n",
    "    \n",
    "\n",
    "    \n",
    "    stock_n_market_n_industry = pd.merge(stock_data,\n",
    "                                          industry_mkt_fts,\n",
    "                                          how='inner',\n",
    "                                          left_index=True, \n",
    "                                          right_index=True)\n",
    "\n",
    "    #next, clean and normalize\n",
    "    try: \n",
    "        \n",
    "        ### MARKET & INDUSTRY\n",
    "        X,y,X_lately = u.clean_and_split(stock_n_market_n_industry,\n",
    "                      forecast_pct=0.05,\n",
    "                      forecast_col='Adj. Close')\n",
    "    \n",
    "        cleaned_data_aug[stock_ticker] = (X,y,X_lately)\n",
    "        \n",
    "        ### SINGLE STOCK\n",
    "\n",
    "        stock_data = u.prune_date_range(stock_data, stock_n_market_n_industry)\n",
    "        X,y,X_lately = u.clean_and_split(stock_data,\n",
    "                              forecast_pct=0.05,\n",
    "                              forecast_col='Adj. Close')\n",
    "        \n",
    "        cleaned_data[stock_ticker] = (X,y,X_lately)\n",
    "\n",
    "    except:\n",
    "        print('skipped one due to NaN/Inf bug!')\n",
    "    \n"
   ]
  },
  {
   "cell_type": "markdown",
   "metadata": {},
   "source": [
    "### Save"
   ]
  },
  {
   "cell_type": "code",
   "execution_count": 13,
   "metadata": {},
   "outputs": [],
   "source": [
    "#augmented\n",
    "with open('cleaned_data_aug.pickle', 'wb') as handle:\n",
    "    pkl.dump(cleaned_data_aug, handle, protocol=pkl.HIGHEST_PROTOCOL)\n",
    "    \n",
    "#individual stock\n",
    "with open('cleaned_data.pickle', 'wb') as handle:\n",
    "    pkl.dump(cleaned_data, handle, protocol=pkl.HIGHEST_PROTOCOL)"
   ]
  },
  {
   "cell_type": "code",
   "execution_count": null,
   "metadata": {},
   "outputs": [],
   "source": []
  },
  {
   "cell_type": "code",
   "execution_count": null,
   "metadata": {},
   "outputs": [],
   "source": []
  }
 ],
 "metadata": {
  "kernelspec": {
   "display_name": "Python 2",
   "language": "python",
   "name": "python2"
  },
  "language_info": {
   "codemirror_mode": {
    "name": "ipython",
    "version": 2
   },
   "file_extension": ".py",
   "mimetype": "text/x-python",
   "name": "python",
   "nbconvert_exporter": "python",
   "pygments_lexer": "ipython2",
   "version": "2.7.10"
  }
 },
 "nbformat": 4,
 "nbformat_minor": 2
}
