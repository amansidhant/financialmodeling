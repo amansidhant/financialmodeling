{
 "cells": [
  {
   "cell_type": "markdown",
   "metadata": {},
   "source": [
    "# Financial Modeling and Estimation\n",
    "\n",
    "v1.0 (2018 Fall) Nikunj Jain"
   ]
  },
  {
   "cell_type": "code",
   "execution_count": 26,
   "metadata": {
    "scrolled": true
   },
   "outputs": [],
   "source": [
    "%matplotlib inline\n",
    "\n",
    "import quandl as Quandl\n",
    "Quandl.ApiConfig.api_key = \"msKYtye1W9DWW4CuVSnW\"\n",
    "import numpy as np\n",
    "import pandas as pd\n",
    "import math\n",
    "from sklearn import preprocessing, cross_validation, svm\n",
    "from sklearn.linear_model import *\n",
    "from sklearn.ensemble import RandomForestRegressor\n",
    "import matplotlib.pyplot as plt\n",
    "from matplotlib import style\n",
    "import datetime\n",
    "style.use('ggplot')\n",
    "import pickle as pkl\n",
    "\n",
    "import util as u\n",
    "from sklearn.svm import SVR, SVC"
   ]
  },
  {
   "cell_type": "markdown",
   "metadata": {},
   "source": [
    "## <font color = blue> Load in Data </font>"
   ]
  },
  {
   "cell_type": "code",
   "execution_count": 27,
   "metadata": {},
   "outputs": [
    {
     "name": "stdout",
     "output_type": "stream",
     "text": [
      "Number of stocks to predict on: 93\n"
     ]
    }
   ],
   "source": [
    "with open(\"cleaned_data.pickle\", \"rb\") as input_file:\n",
    "    cleaned_data = pkl.load(input_file)\n",
    "    \n",
    "with open(\"cleaned_data_aug.pickle\", \"rb\") as input_file:\n",
    "    cleaned_data_aug = pkl.load(input_file)\n",
    "\n",
    "print(\"Number of stocks to predict on: {}\".format(len(cleaned_data)))"
   ]
  },
  {
   "cell_type": "code",
   "execution_count": 28,
   "metadata": {},
   "outputs": [],
   "source": [
    "clf_linreg = LinearRegression(n_jobs=-1)\n",
    "clf_ridge = Ridge()\n",
    "clf_lasso = Lasso()\n",
    "clf_RF = RandomForestRegressor()\n",
    "clf_SVR = SVR(kernel= 'rbf', C= 1e3, gamma= 0.1)\n",
    "\n",
    "clfs = [clf_linreg, clf_ridge, clf_lasso, clf_RF, clf_SVR]"
   ]
  },
  {
   "cell_type": "markdown",
   "metadata": {},
   "source": [
    "### Train and report scores!"
   ]
  },
  {
   "cell_type": "code",
   "execution_count": null,
   "metadata": {},
   "outputs": [],
   "source": [
    "scores = []\n",
    "for clf in clfs:\n",
    "    score = u.average_metrics(cleaned_data, cleaned_data_aug, clf);\n",
    "    scores += [score]\n",
    "\n",
    "print(np.array(scores))\n"
   ]
  },
  {
   "cell_type": "code",
   "execution_count": null,
   "metadata": {},
   "outputs": [],
   "source": []
  }
 ],
 "metadata": {
  "kernelspec": {
   "display_name": "Python 2",
   "language": "python",
   "name": "python2"
  },
  "language_info": {
   "codemirror_mode": {
    "name": "ipython",
    "version": 2
   },
   "file_extension": ".py",
   "mimetype": "text/x-python",
   "name": "python",
   "nbconvert_exporter": "python",
   "pygments_lexer": "ipython2",
   "version": "2.7.10"
  }
 },
 "nbformat": 4,
 "nbformat_minor": 2
}
