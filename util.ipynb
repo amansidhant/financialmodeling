{
 "cells": [
  {
   "cell_type": "code",
   "execution_count": 3,
   "metadata": {},
   "outputs": [],
   "source": [
    "import numpy as np\n",
    "import pandas as pd\n",
    "import math\n",
    "import datetime\n",
    "from ta import *"
   ]
  },
  {
   "cell_type": "code",
   "execution_count": 4,
   "metadata": {},
   "outputs": [],
   "source": [
    "def clean_df(df):\n",
    "    # Pick the needed columns\n",
    "    df = df[['Adj. Open',  'Adj. High',  'Adj. Low',  'Adj. Close', 'Adj. Volume']]\n",
    "\n",
    "    # Create new features (percent change)\n",
    "    df['HL_PCT'] = (df['Adj. High'] - df['Adj. Low']) / df['Adj. Close'] * 100.0\n",
    "    df['PCT_change'] = (df['Adj. Close'] - df['Adj. Open']) / df['Adj. Open'] * 100.0\n",
    "\n",
    "    # Only keep the relative values now\n",
    "    df = df[['Adj. Close', 'HL_PCT', 'PCT_change', 'Adj. Volume']]\n",
    "    \n",
    "    return df"
   ]
  },
  {
   "cell_type": "code",
   "execution_count": 5,
   "metadata": {},
   "outputs": [],
   "source": [
    "### Single stock indicators util functions\n",
    "\n",
    "high = []\n",
    "low = []\n",
    "close = []\n",
    "\n",
    "def select_indicators(single_stock_df):\n",
    "    df = single_stock_df\n",
    "    high = df['Adj. High']\n",
    "    low = df['Adj. Low']\n",
    "    close = df['Adj. Close']\n",
    "\n",
    "    df['avg_directional'] = trend.adx(high, low, close, n=14, fillna=False)\n",
    "    df['rsi'] = momentum.rsi(close, n=14, fillna=False)\n",
    "    df['wr_pct'] = momentum.wr(high, low, close, lbp=14, fillna=False)\n",
    "    df['volatility_avg'] = volatility.average_true_range(high, low, close, n=14, fillna=False)\n",
    "    df['bband'] = volatility.bollinger_hband(close, n=20, ndev=2, fillna=False)\n",
    "    \n",
    "    return df"
   ]
  },
  {
   "cell_type": "code",
   "execution_count": null,
   "metadata": {},
   "outputs": [],
   "source": []
  },
  {
   "cell_type": "code",
   "execution_count": 6,
   "metadata": {},
   "outputs": [],
   "source": [
    "### Modeling functions\n",
    "\n",
    "def prep_naive_train_test(df, forecast=0.05):\n",
    "    '''prep df for train test using starter featurization'''\n",
    "    \n",
    "    '''params:\n",
    "            forecast 5% future values \n",
    "            feature to forecaset: closing price\n",
    "    '''\n",
    "    \n",
    "    # This is what we really want to predict\n",
    "    forecast_col = 'Adj. Close'\n",
    "    \n",
    "    # How do you deal with null/missing data? One approach is to replace it with some numerical placeholder for negative infinity.\n",
    "    df.fillna(value=-99999, inplace=True)\n",
    "\n",
    "    forecast_out = int(math.ceil(forecast * len(df)))\n",
    "\n",
    "    df['label'] = df[forecast_col].shift(-forecast_out)\n",
    "    X = np.array(df.drop(['label'], 1))\n",
    "\n",
    "    # Use the \"scale\" feature of sklearn to rescale the data onto the same scale\n",
    "    X = preprocessing.scale(X)\n",
    "\n",
    "    # Only use the training set, and leave some values to predict on\n",
    "    X_lately = X[-forecast_out:]\n",
    "    X = X[:-forecast_out]\n",
    "\n",
    "    df.dropna(inplace=True)\n",
    "    y = np.array(df['label'])\n",
    "    \n",
    "    return X,y,X_lately\n",
    "\n",
    "def linear_regression(X, y):\n",
    "    X_train, X_test, y_train, y_test = cross_validation.train_test_split(X, y, test_size=0.2)\n",
    "\n",
    "    # Fit a linear regression model to the data\n",
    "    clf = LinearRegression(n_jobs=-1)\n",
    "    clf.fit(X_train, y_train)\n",
    "    confidence = clf.score(X_test, y_test)\n",
    "    print(confidence)\n",
    "    \n",
    "def hmm():\n",
    "    return"
   ]
  },
  {
   "cell_type": "code",
   "execution_count": null,
   "metadata": {},
   "outputs": [],
   "source": []
  },
  {
   "cell_type": "code",
   "execution_count": null,
   "metadata": {},
   "outputs": [],
   "source": []
  }
 ],
 "metadata": {
  "kernelspec": {
   "display_name": "Python 2",
   "language": "python",
   "name": "python2"
  },
  "language_info": {
   "codemirror_mode": {
    "name": "ipython",
    "version": 2
   },
   "file_extension": ".py",
   "mimetype": "text/x-python",
   "name": "python",
   "nbconvert_exporter": "python",
   "pygments_lexer": "ipython2",
   "version": "2.7.10"
  }
 },
 "nbformat": 4,
 "nbformat_minor": 2
}
