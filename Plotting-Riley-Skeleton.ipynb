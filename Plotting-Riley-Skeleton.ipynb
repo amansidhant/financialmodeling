{
 "cells": [
  {
   "cell_type": "markdown",
   "metadata": {},
   "source": [
    "# [Plotting Features]"
   ]
  },
  {
   "cell_type": "markdown",
   "metadata": {},
   "source": [
    "Plotting **Individual Stock** and **Index** Features."
   ]
  },
  {
   "cell_type": "code",
   "execution_count": 13,
   "metadata": {
    "scrolled": true
   },
   "outputs": [],
   "source": [
    "%matplotlib inline\n",
    "\n",
    "import quandl as Quandl\n",
    "Quandl.ApiConfig.api_key = \"EGdC1RASF31yDGeBDRt7\"\n",
    "import numpy as np\n",
    "import pandas as pd\n",
    "import math\n",
    "from sklearn import preprocessing, cross_validation, svm\n",
    "from sklearn.linear_model import LinearRegression\n",
    "import matplotlib.pyplot as plt\n",
    "from matplotlib import style\n",
    "import datetime\n",
    "import pickle as pkl\n",
    "style.use('ggplot')\n",
    "\n",
    "import util as u"
   ]
  },
  {
   "cell_type": "markdown",
   "metadata": {},
   "source": [
    "### Load Data"
   ]
  },
  {
   "cell_type": "code",
   "execution_count": 15,
   "metadata": {},
   "outputs": [],
   "source": [
    "with open('cleaned_data.pickle', 'rb') as handle:\n",
    "    clean_data = pkl.load(handle)"
   ]
  },
  {
   "cell_type": "code",
   "execution_count": 10,
   "metadata": {},
   "outputs": [],
   "source": [
    "def stock_plot(stock_df):\n",
    "    ''' given stock raw features in df,\n",
    "        perform two operations:\n",
    "            1) apply feature generation functions to the df to get the features we need\n",
    "            2) draw subplots of these features\n",
    "        \n",
    "        2) subplot:\n",
    "            -closing prices\n",
    "            -PCT change\n",
    "            -bollinger bands\n",
    "    '''\n",
    "    \n",
    "    #EXAMPLE PCT CHANGE\n",
    "#     for df in clean_dfs.values()[:3]:\n",
    "#     df.plot(y='HL_PCT')\n",
    "#     df.plot(y='PCT_change')\n",
    "    \n",
    "    \n",
    "    #EXAMPLE\n",
    "#     plt.plot(df.Close)\n",
    "#     plt.plot(df.volatility_bbh, label='High BB')\n",
    "#     plt.plot(df.volatility_bbl, label='Low BB')\n",
    "#     plt.plot(df.volatility_bbm, label='EMA BB')\n",
    "#     plt.title('Bollinger Bands')\n",
    "#     plt.legend()\n",
    "#     plt.show()\n",
    "    \n",
    "    return"
   ]
  },
  {
   "cell_type": "code",
   "execution_count": 9,
   "metadata": {},
   "outputs": [],
   "source": [
    "def index_plot():\n",
    "    ''' given market & industry raw features in df,\n",
    "        perform two operations:\n",
    "            1) apply feature generation functions to the df to get the features we need\n",
    "            2) draw subplots of these features\n",
    "        \n",
    "        2) subplot:\n",
    "            -closing prices\n",
    "            -PCT change\n",
    "    '''\n",
    "    return"
   ]
  },
  {
   "cell_type": "markdown",
   "metadata": {},
   "source": [
    "## <font color = blue> Individual Stock </font>"
   ]
  },
  {
   "cell_type": "markdown",
   "metadata": {},
   "source": [
    "* Closing prices\n",
    "* PCT Change\n",
    "* Bollinger Bands"
   ]
  },
  {
   "cell_type": "markdown",
   "metadata": {},
   "source": [
    "### Example: AAPL"
   ]
  },
  {
   "cell_type": "code",
   "execution_count": 11,
   "metadata": {},
   "outputs": [
    {
     "ename": "NameError",
     "evalue": "name 'aapl_df' is not defined",
     "output_type": "error",
     "traceback": [
      "\u001b[0;31m---------------------------------------------------------------------------\u001b[0m",
      "\u001b[0;31mNameError\u001b[0m                                 Traceback (most recent call last)",
      "\u001b[0;32m<ipython-input-11-8a45e061b1ab>\u001b[0m in \u001b[0;36m<module>\u001b[0;34m()\u001b[0m\n\u001b[0;32m----> 1\u001b[0;31m \u001b[0mstock_plot\u001b[0m\u001b[0;34m(\u001b[0m\u001b[0maapl_df\u001b[0m\u001b[0;34m)\u001b[0m\u001b[0;34m\u001b[0m\u001b[0m\n\u001b[0m",
      "\u001b[0;31mNameError\u001b[0m: name 'aapl_df' is not defined"
     ]
    }
   ],
   "source": [
    "stock_plot(aapl_df)"
   ]
  },
  {
   "cell_type": "markdown",
   "metadata": {},
   "source": [
    "### Example: GOOGL"
   ]
  },
  {
   "cell_type": "code",
   "execution_count": null,
   "metadata": {},
   "outputs": [],
   "source": [
    "stock_plot(googl_df)"
   ]
  },
  {
   "cell_type": "markdown",
   "metadata": {},
   "source": [
    "## <font color = blue> Index Stocks </font>"
   ]
  },
  {
   "cell_type": "markdown",
   "metadata": {},
   "source": [
    "* Closing Prices\n",
    "* PCT Change"
   ]
  },
  {
   "cell_type": "markdown",
   "metadata": {},
   "source": [
    "### Example: SP500"
   ]
  },
  {
   "cell_type": "code",
   "execution_count": null,
   "metadata": {},
   "outputs": [],
   "source": [
    "index_plot(sp500_df)"
   ]
  },
  {
   "cell_type": "markdown",
   "metadata": {},
   "source": [
    "### Example: NASDAQ-100 Technology Sector (NDXT)"
   ]
  },
  {
   "cell_type": "code",
   "execution_count": null,
   "metadata": {},
   "outputs": [],
   "source": [
    "index_plot(ndxt_df)"
   ]
  },
  {
   "cell_type": "markdown",
   "metadata": {},
   "source": [
    "### Example: Nasdaq US Sustainable Momentum Index"
   ]
  },
  {
   "cell_type": "code",
   "execution_count": null,
   "metadata": {},
   "outputs": [],
   "source": [
    "index_plot(nasdaq_momentum_df)"
   ]
  }
 ],
 "metadata": {
  "kernelspec": {
   "display_name": "Python 2",
   "language": "python",
   "name": "python2"
  },
  "language_info": {
   "codemirror_mode": {
    "name": "ipython",
    "version": 2
   },
   "file_extension": ".py",
   "mimetype": "text/x-python",
   "name": "python",
   "nbconvert_exporter": "python",
   "pygments_lexer": "ipython2",
   "version": "2.7.10"
  }
 },
 "nbformat": 4,
 "nbformat_minor": 2
}
